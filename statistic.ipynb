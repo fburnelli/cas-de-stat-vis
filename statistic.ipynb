{
 "cells": [
  {
   "cell_type": "markdown",
   "source": "# Stats",
   "metadata": {
    "formattedRanges": [],
    "tags": [],
    "is_collapsed": false,
    "cell_id": "00000-6aee6c13-3cd6-4a2d-80ff-297ab38210fc",
    "deepnote_cell_type": "text-cell-h1"
   }
  },
  {
   "cell_type": "code",
   "source": "import matplotlib.pyplot as plt\nimport numpy as np\nimport pandas as pd\n%matplotlib inline",
   "metadata": {
    "tags": [],
    "deepnote_to_be_reexecuted": false,
    "source_hash": "818c5f8f",
    "execution_start": 1662553844804,
    "execution_millis": 945,
    "cell_id": "00001-3aeb32aa-b5cc-474d-a6e5-f72002797bbb",
    "deepnote_cell_type": "code",
    "deepnote_cell_height": 129.96875
   },
   "execution_count": 1,
   "outputs": []
  },
  {
   "cell_type": "markdown",
   "source": "### Read the Data",
   "metadata": {
    "formattedRanges": [],
    "tags": [],
    "is_collapsed": false,
    "cell_id": "00002-618b3a8e-56e3-402c-9829-875275475df9",
    "deepnote_cell_type": "text-cell-h3"
   }
  },
  {
   "cell_type": "code",
   "metadata": {
    "tags": [],
    "deepnote_to_be_reexecuted": false,
    "source_hash": "7496430d",
    "execution_start": 1662553845749,
    "execution_millis": 8784,
    "cell_id": "00002-53ef3950-3bf9-4075-b8bd-83f800a261ca",
    "deepnote_cell_type": "code",
    "deepnote_cell_height": 130.96875
   },
   "source": "df = pd.read_csv(\"lc_loan.csv\")",
   "execution_count": 2,
   "outputs": [
    {
     "name": "stderr",
     "text": "/shared-libs/python3.7/py-core/lib/python3.7/site-packages/IPython/core/interactiveshell.py:3258: DtypeWarning: Columns (19,55) have mixed types.Specify dtype option on import or set low_memory=False.\n  interactivity=interactivity, compiler=compiler, result=result)\n",
     "output_type": "stream"
    }
   ]
  },
  {
   "cell_type": "markdown",
   "source": "## Distributions",
   "metadata": {
    "formattedRanges": [],
    "tags": [],
    "is_collapsed": false,
    "cell_id": "00003-0b7be975-8844-4da0-8a9d-8bfc1836227e",
    "deepnote_cell_type": "text-cell-h2"
   }
  },
  {
   "cell_type": "code",
   "metadata": {
    "tags": [],
    "deepnote_to_be_reexecuted": false,
    "source_hash": "18a60de6",
    "execution_start": 1662553854540,
    "execution_millis": 456,
    "cell_id": "00004-e30512cc-8d1c-4187-a674-ef2997a4f179",
    "deepnote_cell_type": "code",
    "deepnote_cell_height": 464.9375,
    "deepnote_output_heights": [
     264.984375
    ]
   },
   "source": "# Exercise change observations\nplt.figure()\nobservations= 1000\nplt.hist(np.random.normal(loc=0.0, scale=1.0, size=observations),100)\nplt.title(f\"{observations} observations\")\nplt.show()\n",
   "execution_count": 3,
   "outputs": [
    {
     "data": {
      "text/plain": "<Figure size 432x288 with 1 Axes>",
      "image/png": "[encoded data removed]"
     },
     "metadata": {
      "needs_background": "light",
      "image/png": {
       "width": 368,
       "height": 264
      }
     },
     "output_type": "display_data"
    }
   ]
  },
  {
   "cell_type": "markdown",
   "source": "",
   "metadata": {
    "tags": [],
    "cell_id": "00005-f55f616c-aa15-47dc-90d3-f8ea1becfdba",
    "deepnote_cell_type": "markdown",
    "deepnote_cell_height": 45.96875
   }
  },
  {
   "cell_type": "code",
   "metadata": {
    "tags": [],
    "deepnote_to_be_reexecuted": false,
    "source_hash": "c4322d57",
    "execution_start": 1662553854991,
    "execution_millis": 25,
    "cell_id": "00007-055fa585-8962-4c4d-9641-6dc5cb3aa8a9",
    "deepnote_cell_type": "code",
    "deepnote_cell_height": 196.765625
   },
   "source": "x = np.random.binomial(10,\n                       .5,\n                       1000\n                       )\n#_ = plt.plot(x)\nprint(x.mean())",
   "execution_count": 4,
   "outputs": [
    {
     "name": "stdout",
     "text": "5.014\n",
     "output_type": "stream"
    }
   ]
  },
  {
   "cell_type": "code",
   "metadata": {
    "tags": [],
    "deepnote_to_be_reexecuted": false,
    "source_hash": "4076a5f3",
    "execution_start": 1662553855002,
    "execution_millis": 431,
    "cell_id": "00008-7606bca6-7fe9-44bc-a86b-60da58c4ce5e",
    "deepnote_cell_type": "code",
    "deepnote_cell_height": 431.96875,
    "deepnote_output_heights": [
     248.984375
    ]
   },
   "source": "x = np.random.normal(0,\n                    1,\n                    10000\n                       )\n_ = plt.hist(x,bins=100)\n",
   "execution_count": 5,
   "outputs": [
    {
     "data": {
      "text/plain": "<Figure size 432x288 with 1 Axes>",
      "image/png": "[encoded data removed]"
     },
     "metadata": {
      "needs_background": "light",
      "image/png": {
       "width": 375,
       "height": 248
      }
     },
     "output_type": "display_data"
    }
   ]
  },
  {
   "cell_type": "markdown",
   "source": "# Hauptwerte",
   "metadata": {
    "formattedRanges": [],
    "tags": [],
    "is_collapsed": false,
    "cell_id": "00009-1708f697-7a95-4bcf-9861-1c023ac67f8e",
    "deepnote_cell_type": "text-cell-h1"
   }
  },
  {
   "cell_type": "markdown",
   "source": "## Mittelwert",
   "metadata": {
    "formattedRanges": [],
    "tags": [],
    "is_collapsed": false,
    "cell_id": "00010-95dacab1-4646-4eb0-87fa-8093a13b439a",
    "deepnote_cell_type": "text-cell-h2"
   }
  },
  {
   "cell_type": "code",
   "metadata": {
    "tags": [],
    "deepnote_to_be_reexecuted": false,
    "source_hash": "a1251cf6",
    "execution_start": 1662553855435,
    "execution_millis": 11,
    "cell_id": "00011-a1ebb02f-453c-4d5c-b22b-a12a1e06ada0",
    "deepnote_cell_type": "code",
    "deepnote_cell_height": 112.15625,
    "deepnote_output_heights": [
     20.1875
    ]
   },
   "source": "df['loan_amnt'].mean()",
   "execution_count": 6,
   "outputs": [
    {
     "output_type": "execute_result",
     "execution_count": 6,
     "data": {
      "text/plain": "14755.26460508982"
     },
     "metadata": {}
    }
   ]
  },
  {
   "cell_type": "code",
   "metadata": {
    "tags": [],
    "deepnote_to_be_reexecuted": false,
    "source_hash": "d7ea8197",
    "execution_start": 1662553855446,
    "execution_millis": 602,
    "cell_id": "00012-a33895f6-27a3-4edd-8257-ac3655577ba4",
    "deepnote_cell_type": "code",
    "deepnote_cell_height": 569.96875,
    "deepnote_output_heights": [
     20.1875,
     280.984375
    ]
   },
   "source": "mean = df['loan_amnt'].mean()\ndf['loan_amnt'].hist(bins=100,grid = False,alpha= 0.7)\nplt.title(\"Histogram of Loans Amount\",size=15)\nplt.xlabel(\"Loans Amount\")\nplt.ylabel(\"Frequency\")\nplt.axvline(mean, color=\"red\")\nplt.text(mean, 60000, \"  Mean:{:10.2f} $\".format(mean), verticalalignment='center',size=13)\n\n",
   "execution_count": 7,
   "outputs": [
    {
     "output_type": "execute_result",
     "execution_count": 7,
     "data": {
      "text/plain": "Text(14755.26460508982, 60000, '  Mean:  14755.26 $')"
     },
     "metadata": {}
    },
    {
     "data": {
      "text/plain": "<Figure size 432x288 with 1 Axes>",
      "image/png": "[encoded data removed]"
     },
     "metadata": {
      "needs_background": "light",
      "image/png": {
       "width": 402,
       "height": 280
      }
     },
     "output_type": "display_data"
    }
   ]
  },
  {
   "cell_type": "markdown",
   "source": "## Median",
   "metadata": {
    "formattedRanges": [],
    "tags": [],
    "is_collapsed": false,
    "cell_id": "00013-edfca632-b9a0-4948-96f1-ca9f3e0cc5ae",
    "deepnote_cell_type": "text-cell-h2"
   }
  },
  {
   "cell_type": "code",
   "metadata": {
    "tags": [],
    "cell_id": "00013-bcd4c657-2b95-48ed-8320-3895b28daeb7",
    "deepnote_to_be_reexecuted": false,
    "source_hash": "d517728c",
    "execution_start": 1662553856046,
    "execution_millis": 12,
    "deepnote_cell_type": "code",
    "deepnote_cell_height": 112.15625,
    "deepnote_output_heights": [
     20.1875
    ]
   },
   "source": "df['loan_amnt'].median()",
   "execution_count": 8,
   "outputs": [
    {
     "output_type": "execute_result",
     "execution_count": 8,
     "data": {
      "text/plain": "13000.0"
     },
     "metadata": {}
    }
   ]
  },
  {
   "cell_type": "code",
   "metadata": {
    "tags": [],
    "cell_id": "00015-dbaa36cd-d7bb-4822-996f-884fe762ec14",
    "deepnote_to_be_reexecuted": false,
    "source_hash": "94ad176b",
    "execution_start": 1662553856065,
    "execution_millis": 1195,
    "deepnote_cell_type": "code",
    "deepnote_cell_height": 568.125,
    "deepnote_output_heights": [
     20.1875,
     280.984375
    ]
   },
   "source": "median = df['loan_amnt'].median()\n\ndf['loan_amnt'].hist(bins=100,grid = False,alpha= 0.7)\nplt.title(\"Histogram of Loans Amount\",size=15)\nplt.xlabel(\"Loans Amount\")\nplt.ylabel(\"Frequency\")\nplt.axvline(median, color=\"green\")\nplt.text(median, 60000, \"  Mean:{} $\".format(median), verticalalignment='center',size=13)\n",
   "execution_count": 9,
   "outputs": [
    {
     "output_type": "execute_result",
     "execution_count": 9,
     "data": {
      "text/plain": "Text(13000.0, 60000, '  Mean:13000.0 $')"
     },
     "metadata": {}
    },
    {
     "data": {
      "text/plain": "<Figure size 432x288 with 1 Axes>",
      "image/png": "[encoded data removed]"
     },
     "metadata": {
      "needs_background": "light",
      "image/png": {
       "width": 402,
       "height": 280
      }
     },
     "output_type": "display_data"
    }
   ]
  },
  {
   "cell_type": "markdown",
   "source": "## Modus",
   "metadata": {
    "formattedRanges": [],
    "tags": [],
    "is_collapsed": false,
    "cell_id": "00016-01ea0318-9118-45dd-a786-ce2d316b5fdc",
    "deepnote_cell_type": "text-cell-h2"
   }
  },
  {
   "cell_type": "code",
   "metadata": {
    "tags": [],
    "cell_id": "00017-b30e536d-00d4-436b-b9cd-bdbb9fe28778",
    "deepnote_to_be_reexecuted": false,
    "source_hash": "f672cbaf",
    "execution_start": 1662553856681,
    "execution_millis": 599,
    "deepnote_cell_type": "code",
    "deepnote_cell_height": 112.15625,
    "deepnote_output_heights": [
     20.1875
    ]
   },
   "source": "df['title'].mode()[0]",
   "execution_count": 10,
   "outputs": [
    {
     "output_type": "execute_result",
     "execution_count": 10,
     "data": {
      "text/plain": "'Debt consolidation'"
     },
     "metadata": {}
    }
   ]
  },
  {
   "cell_type": "code",
   "metadata": {
    "tags": [],
    "cell_id": "00017-9495a55f-a328-4b00-b422-73f15bdf2b2a",
    "deepnote_to_be_reexecuted": false,
    "source_hash": "95aefe3a",
    "execution_start": 1662553856796,
    "execution_millis": 523,
    "deepnote_cell_type": "code",
    "deepnote_cell_height": 585.9375,
    "deepnote_output_heights": [
     385.984375
    ]
   },
   "source": "mode = df['title'].mode()[0]\ndf['title'].value_counts().head(10).plot(kind='bar')\nplt.title(\"Barplot of 10 most frequent 'Title'\",size=15)\nplt.xlabel(\"Title\")\nplt.ylabel(\"Frequency\")\n_ = plt.text(1,400000, \"  Mode is: {} $\".format(mode), verticalalignment='center',size=13)\n",
   "execution_count": 11,
   "outputs": [
    {
     "data": {
      "text/plain": "<Figure size 432x288 with 1 Axes>",
      "image/png": "[encoded data removed]"
     },
     "metadata": {
      "needs_background": "light",
      "image/png": {
       "width": 407,
       "height": 385
      }
     },
     "output_type": "display_data"
    }
   ]
  },
  {
   "cell_type": "markdown",
   "source": "## Quartile",
   "metadata": {
    "formattedRanges": [],
    "tags": [],
    "is_collapsed": false,
    "cell_id": "00019-35b69ab0-2b73-4d3b-b740-661e47ef6b82",
    "deepnote_cell_type": "text-cell-h2"
   }
  },
  {
   "cell_type": "code",
   "metadata": {
    "tags": [],
    "cell_id": "00020-41ed373b-1b5e-425c-bc59-f53252e281be",
    "deepnote_to_be_reexecuted": false,
    "source_hash": "bfd0ae7e",
    "execution_start": 1662553857235,
    "execution_millis": 1111,
    "deepnote_cell_type": "code",
    "deepnote_cell_height": 462.96875,
    "deepnote_output_heights": [
     279.984375
    ]
   },
   "source": "#df['loan_amnt'].boxplot(grid = False)\ndf.boxplot(column=['loan_amnt'],grid = False)\nplt.xlabel('Loan amount')\nplt.ylabel(\"Frequency\")\n_ = plt.title(\"Boxplot of Loan Amount\")\n",
   "execution_count": 12,
   "outputs": [
    {
     "data": {
      "text/plain": "<Figure size 432x288 with 1 Axes>",
      "image/png": "[encoded data removed]"
     },
     "metadata": {
      "needs_background": "light",
      "image/png": {
       "width": 401,
       "height": 279
      }
     },
     "output_type": "display_data"
    }
   ]
  },
  {
   "cell_type": "code",
   "metadata": {
    "tags": [],
    "cell_id": "00021-4d5b846b-6d5d-42ee-b78b-4e055abcf16a",
    "deepnote_to_be_reexecuted": false,
    "source_hash": "e7a984b2",
    "execution_start": 1662553858383,
    "execution_millis": 45,
    "deepnote_cell_type": "code",
    "deepnote_cell_height": 183.765625
   },
   "source": "q1 = df['loan_amnt'].quantile(0.25)\nq2 = df['loan_amnt'].quantile(0.5)\nq3 = df['loan_amnt'].quantile(0.75)\niqr = q3 - q1\nprint(\"1st Quartile:{} - 2nd  Quartile:{} - 3rd  Quartile:{} Interquartile Range:{}\".format(q1,q2,q3,iqr))",
   "execution_count": 13,
   "outputs": [
    {
     "name": "stdout",
     "text": "1st Quartile:8000.0 - 2nd  Quartile:13000.0 - 3rd  Quartile:20000.0 Interquartile Range:12000.0\n",
     "output_type": "stream"
    }
   ]
  },
  {
   "cell_type": "code",
   "metadata": {
    "tags": [],
    "cell_id": "00016-295c6d23-272e-4148-ab51-7659e33e10e3",
    "deepnote_to_be_reexecuted": false,
    "source_hash": "1d204ff3",
    "execution_start": 1662553858428,
    "execution_millis": 385,
    "deepnote_cell_type": "code",
    "deepnote_cell_height": 658.953125,
    "deepnote_output_heights": [
     20.1875,
     279.984375
    ]
   },
   "source": "c='inq_last_12m'\nb = 50\nmedian = df[c].median()\nmean  = df[c].mean()\n\ndf[c].hist(bins=b,grid = False,alpha= 0.7)\nplt.title(\"Histogram of \"+c)\nplt.xlabel(c)\nplt.ylabel(\"Frequency\")\nplt.axvline(mean, color=\"red\", label = 'Median')\nplt.axvline(median+10, color=\"green\", label = 'Mean')\n\nplt.legend()\n#df[c].describe()",
   "execution_count": 14,
   "outputs": [
    {
     "output_type": "execute_result",
     "execution_count": 14,
     "data": {
      "text/plain": "<matplotlib.legend.Legend at 0x7fb3ee9c5810>"
     },
     "metadata": {}
    },
    {
     "data": {
      "text/plain": "<Figure size 432x288 with 1 Axes>",
      "image/png": "[encoded data removed]"
     },
     "metadata": {
      "needs_background": "light",
      "image/png": {
       "width": 395,
       "height": 279
      }
     },
     "output_type": "display_data"
    }
   ]
  },
  {
   "cell_type": "markdown",
   "source": "# Streeungsmasse (Spread measures)",
   "metadata": {
    "formattedRanges": [],
    "tags": [],
    "is_collapsed": false,
    "cell_id": "00023-680937ef-de9b-428f-a79b-ecfd4d6cb290",
    "deepnote_cell_type": "text-cell-h1"
   }
  },
  {
   "cell_type": "markdown",
   "source": "## Varianz",
   "metadata": {
    "formattedRanges": [],
    "tags": [],
    "is_collapsed": false,
    "cell_id": "00024-59c06485-5e00-464d-b3bc-058649301f7d",
    "deepnote_cell_type": "text-cell-h2"
   }
  },
  {
   "cell_type": "code",
   "metadata": {
    "tags": [],
    "cell_id": "00025-0a11e081-f76c-4620-9281-5983730bbfdc",
    "deepnote_to_be_reexecuted": false,
    "source_hash": "75504ac8",
    "execution_start": 1662553858812,
    "execution_millis": 37,
    "deepnote_cell_type": "code",
    "deepnote_cell_height": 112.96875,
    "deepnote_output_heights": [
     20.1875
    ]
   },
   "source": "df['loan_amnt'].var() # ... squared USD dollars",
   "execution_count": 15,
   "outputs": [
    {
     "output_type": "execute_result",
     "execution_count": 15,
     "data": {
      "text/plain": "71156911.20113908"
     },
     "metadata": {}
    }
   ]
  },
  {
   "cell_type": "markdown",
   "source": "## Standard deviation",
   "metadata": {
    "formattedRanges": [],
    "tags": [],
    "is_collapsed": false,
    "cell_id": "00026-a284402e-3287-4c11-b68f-38fa103260eb",
    "deepnote_cell_type": "text-cell-h2"
   }
  },
  {
   "cell_type": "code",
   "metadata": {
    "tags": [],
    "cell_id": "00027-9f8d830e-d1ae-40ad-ba84-f6c0f4543b67",
    "deepnote_to_be_reexecuted": false,
    "source_hash": "4760e816",
    "execution_start": 1662553858829,
    "execution_millis": 24,
    "deepnote_cell_type": "code",
    "deepnote_cell_height": 112.15625,
    "deepnote_output_heights": [
     20.1875
    ]
   },
   "source": "df['loan_amnt'].std() # USD dollars",
   "execution_count": 16,
   "outputs": [
    {
     "output_type": "execute_result",
     "execution_count": 16,
     "data": {
      "text/plain": "8435.455601278396"
     },
     "metadata": {}
    }
   ]
  },
  {
   "cell_type": "code",
   "metadata": {
    "tags": [],
    "cell_id": "00024-dcccbc4b-087d-45e7-a3da-e6f9c9aff775",
    "deepnote_to_be_reexecuted": false,
    "source_hash": "80b7f608",
    "execution_start": 1662553858852,
    "execution_millis": 55,
    "deepnote_cell_type": "code",
    "deepnote_cell_height": 265.96875,
    "deepnote_output_heights": [
     173.78125
    ]
   },
   "source": "df['loan_amnt'].describe()",
   "execution_count": 17,
   "outputs": [
    {
     "output_type": "execute_result",
     "execution_count": 17,
     "data": {
      "text/plain": "count    887379.000000\nmean      14755.264605\nstd        8435.455601\nmin         500.000000\n25%        8000.000000\n50%       13000.000000\n75%       20000.000000\nmax       35000.000000\nName: loan_amnt, dtype: float64"
     },
     "metadata": {}
    }
   ]
  },
  {
   "cell_type": "markdown",
   "source": "## Distributions properties",
   "metadata": {
    "formattedRanges": [],
    "tags": [],
    "is_collapsed": false,
    "cell_id": "00029-d04c75cf-566c-466f-aa34-372673b962fd",
    "deepnote_cell_type": "text-cell-h2"
   }
  },
  {
   "cell_type": "code",
   "metadata": {
    "tags": [],
    "cell_id": "00030-f6f71a71-e9a1-49a4-935d-1c016a3c674d",
    "deepnote_to_be_reexecuted": false,
    "source_hash": "faf25d73",
    "execution_start": 1662553882771,
    "execution_millis": 1332,
    "deepnote_cell_type": "code",
    "deepnote_cell_height": 809.96875,
    "deepnote_output_heights": [
     281
    ]
   },
   "source": "from scipy.stats import skewnorm\nfig, ax = plt.subplots(nrows=2, ncols=3, sharey=True)\n\nax[0, 0].hist(np.random.normal(0,1,10000),bins=20,color='lightgreen') \nax[0, 0].set_title('symmetrical')\nax[0, 0].set_ylabel(\"Frequency\")\n\n\nax[0, 1].hist(skewnorm.rvs(10,size=8500),bins=20,color='lightgreen')\nax[0, 1].set_title('right skew')\n\nax[0, 2].hist(skewnorm.rvs(-10,size=8500),bins=20,color='lightgreen')\nax[0, 2].set_title('left skew')\n\nax[1, 0].hist(np.random.normal(0,1,10000),bins=20,color='lightgreen')\nax[1, 0].set_title('unimodal')\nax[1, 0].set_ylabel(\"Frequency\")\n\nax[1, 1].hist(np.concatenate((np.random.normal(0,1,8000),np.random.normal(4,1,4000) )),bins=20,color='lightgreen')\nax[1, 1].set_title('bimodal')\n\nax[1, 2].hist(np.concatenate((np.random.normal(0,1,6000),np.random.normal(4,1,1000),np.random.normal(8,1,2000))),bins=20,color='lightgreen')\nax[1, 2].set_title('multimodal')\nplt.tight_layout()\nplt.show()",
   "execution_count": 19,
   "outputs": [
    {
     "data": {
      "text/plain": "<Figure size 432x288 with 6 Axes>",
      "image/png": "[encoded data removed]"
     },
     "metadata": {
      "needs_background": "light",
      "image/png": {
       "width": 424,
       "height": 280
      }
     },
     "output_type": "display_data"
    }
   ]
  },
  {
   "cell_type": "markdown",
   "source": "<a style='text-decoration:none;line-height:16px;display:flex;color:#5B5B62;padding:10px;justify-content:end;' href='https://deepnote.com?utm_source=created-in-deepnote-cell&projectId=484ce270-3a41-4dd6-9050-10e2ff2d7d59' target=\"_blank\">\n<img alt='Created in deepnote.com' style='display:inline;max-height:16px;margin:0px;margin-right:7.5px;' src='data:image/svg+xml;base64,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' > </img>\nCreated in <span style='font-weight:600;margin-left:4px;'>Deepnote</span></a>",
   "metadata": {
    "tags": [],
    "created_in_deepnote_cell": true,
    "deepnote_cell_type": "markdown"
   }
  }
 ],
 "nbformat": 4,
 "nbformat_minor": 2,
 "metadata": {
  "orig_nbformat": 2,
  "deepnote": {
   "is_reactive": false
  },
  "deepnote_notebook_id": "f3d4d6e8-b370-4e42-b241-bd751ef32e86",
  "deepnote_execution_queue": []
 }
}