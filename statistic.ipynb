{
 "cells": [
  {
   "cell_type": "markdown",
   "source": "# Stats",
   "metadata": {
    "tags": [],
    "is_collapsed": false,
    "cell_id": "00000-6aee6c13-3cd6-4a2d-80ff-297ab38210fc",
    "deepnote_cell_type": "text-cell-h1"
   }
  },
  {
   "cell_type": "code",
   "metadata": {
    "tags": [],
    "deepnote_to_be_reexecuted": false,
    "source_hash": "818c5f8f",
    "execution_start": 1633357852176,
    "execution_millis": 3559,
    "cell_id": "00001-3aeb32aa-b5cc-474d-a6e5-f72002797bbb",
    "deepnote_cell_type": "code"
   },
   "source": "import matplotlib.pyplot as plt\nimport numpy as np\nimport pandas as pd\n%matplotlib inline",
   "execution_count": 1,
   "outputs": []
  },
  {
   "cell_type": "code",
   "metadata": {
    "tags": [],
    "deepnote_to_be_reexecuted": false,
    "source_hash": "7496430d",
    "execution_start": 1633358080262,
    "execution_millis": 11997,
    "cell_id": "00002-53ef3950-3bf9-4075-b8bd-83f800a261ca",
    "deepnote_cell_type": "code"
   },
   "source": "df = pd.read_csv(\"lc_loan.csv\")",
   "execution_count": 2,
   "outputs": [
    {
     "name": "stderr",
     "text": "/shared-libs/python3.7/py-core/lib/python3.7/site-packages/IPython/core/interactiveshell.py:3170: DtypeWarning: Columns (19,55) have mixed types.Specify dtype option on import or set low_memory=False.\n  interactivity=interactivity, compiler=compiler, result=result)\n",
     "output_type": "stream"
    }
   ]
  },
  {
   "cell_type": "markdown",
   "source": "## Distributions",
   "metadata": {
    "tags": [],
    "is_collapsed": false,
    "cell_id": "00003-0b7be975-8844-4da0-8a9d-8bfc1836227e",
    "deepnote_cell_type": "text-cell-h2"
   }
  },
  {
   "cell_type": "code",
   "metadata": {
    "tags": [],
    "deepnote_to_be_reexecuted": false,
    "source_hash": "595049f3",
    "execution_start": 1632235705797,
    "execution_millis": 379,
    "cell_id": "00004-e30512cc-8d1c-4187-a674-ef2997a4f179",
    "deepnote_cell_type": "code"
   },
   "source": "# Exercise change observations\nplt.figure()\nobservations= 1000\nplt.hist(np.random.normal(loc=0.0, scale=1.0, size=observations),100)\nplt.title(f\"{observations} observations\")\nplt.show()\n",
   "execution_count": null,
   "outputs": [
    {
     "data": {
      "text/plain": "<Figure size 432x288 with 1 Axes>",
      "image/png": "[encoded data removed]"
     },
     "metadata": {
      "needs_background": "light",
      "image/png": {
       "width": 368,
       "height": 264
      }
     },
     "output_type": "display_data"
    }
   ]
  },
  {
   "cell_type": "markdown",
   "source": "",
   "metadata": {
    "tags": [],
    "cell_id": "00005-f55f616c-aa15-47dc-90d3-f8ea1becfdba",
    "deepnote_cell_type": "markdown"
   }
  },
  {
   "cell_type": "code",
   "metadata": {
    "tags": [],
    "deepnote_to_be_reexecuted": false,
    "source_hash": "ac573e93",
    "execution_start": 1632407279874,
    "execution_millis": 10,
    "cell_id": "00006-96184252-8f18-4882-9e3f-da1f51eefb1d",
    "deepnote_cell_type": "code"
   },
   "source": "\nimport matplotlib.pyplot as plt\nimport numpy as np\n​\n%matplotlib notebook\n​\n# generate 4 random variables from the random, gamma, exponential, and uniform distributions\nx1 = np.random.normal(-2.5, 1, 10000)\nx2 = np.random.gamma(2, 1.5, 10000)\nx3 = np.random.exponential(2, 10000)+7\nx4 = np.random.uniform(14,20, 10000)\n​\n# plot the histograms\nplt.figure(figsize=(9,3))\nplt.hist(x1, normed=True, bins=20, alpha=0.5)\nplt.hist(x2, normed=True, bins=20, alpha=0.5)\nplt.hist(x3, normed=True, bins=20, alpha=0.5)\nplt.hist(x4, normed=True, bins=20, alpha=0.5);\nplt.axis([-7,21,0,0.6])\n​\nplt.text(x1.mean()-1.5, 0.5, 'x1\\nNormal')\nplt.text(x2.mean()-1.5, 0.5, 'x2\\nGamma')\nplt.text(x3.mean()-1.5, 0.5, 'x3\\nExponential')\nplt.text(x4.mean()-1.5, 0.5, 'x4\\nUniform')\n​\n",
   "execution_count": null,
   "outputs": [
    {
     "output_type": "error",
     "ename": "SyntaxError",
     "evalue": "invalid character in identifier (2959463831.py, line 3)",
     "traceback": [
      "\u001b[0;36m  File \u001b[0;32m\"/tmp/ipykernel_73/2959463831.py\"\u001b[0;36m, line \u001b[0;32m3\u001b[0m\n\u001b[0;31m    ​\u001b[0m\n\u001b[0m    ^\u001b[0m\n\u001b[0;31mSyntaxError\u001b[0m\u001b[0;31m:\u001b[0m invalid character in identifier\n"
     ]
    }
   ]
  },
  {
   "cell_type": "code",
   "metadata": {
    "tags": [],
    "deepnote_to_be_reexecuted": false,
    "source_hash": "c4322d57",
    "execution_start": 1632493109784,
    "execution_millis": 8,
    "cell_id": "00007-055fa585-8962-4c4d-9641-6dc5cb3aa8a9",
    "deepnote_cell_type": "code"
   },
   "source": "x = np.random.binomial(10,\n                       .5,\n                       1000\n                       )\n#_ = plt.plot(x)\nprint(x.mean())",
   "execution_count": null,
   "outputs": [
    {
     "name": "stdout",
     "text": "5.12\n",
     "output_type": "stream"
    }
   ]
  },
  {
   "cell_type": "code",
   "metadata": {
    "tags": [],
    "deepnote_to_be_reexecuted": false,
    "source_hash": "4076a5f3",
    "execution_start": 1632494197127,
    "execution_millis": 914,
    "cell_id": "00008-7606bca6-7fe9-44bc-a86b-60da58c4ce5e",
    "deepnote_cell_type": "code"
   },
   "source": "x = np.random.normal(0,\n                    1,\n                    10000\n                       )\n_ = plt.hist(x,bins=100)\n",
   "execution_count": null,
   "outputs": [
    {
     "data": {
      "text/plain": "<Figure size 432x288 with 1 Axes>",
      "image/png": "[encoded data removed]"
     },
     "metadata": {
      "needs_background": "light",
      "image/png": {
       "width": 375,
       "height": 248
      }
     },
     "output_type": "display_data"
    }
   ]
  },
  {
   "cell_type": "markdown",
   "source": "# Hauptwerte",
   "metadata": {
    "tags": [],
    "is_collapsed": false,
    "cell_id": "00009-1708f697-7a95-4bcf-9861-1c023ac67f8e",
    "deepnote_cell_type": "text-cell-h1"
   }
  },
  {
   "cell_type": "markdown",
   "source": "## Mittelwert",
   "metadata": {
    "tags": [],
    "is_collapsed": false,
    "cell_id": "00010-95dacab1-4646-4eb0-87fa-8093a13b439a",
    "deepnote_cell_type": "text-cell-h2"
   }
  },
  {
   "cell_type": "code",
   "metadata": {
    "tags": [],
    "deepnote_to_be_reexecuted": false,
    "source_hash": "a1251cf6",
    "execution_start": 1633074941293,
    "execution_millis": 12,
    "cell_id": "00011-a1ebb02f-453c-4d5c-b22b-a12a1e06ada0",
    "deepnote_cell_type": "code"
   },
   "source": "df['loan_amnt'].mean()",
   "execution_count": null,
   "outputs": [
    {
     "output_type": "execute_result",
     "execution_count": 4,
     "data": {
      "text/plain": "14755.26460508982"
     },
     "metadata": {}
    }
   ]
  },
  {
   "cell_type": "code",
   "metadata": {
    "tags": [],
    "deepnote_to_be_reexecuted": false,
    "source_hash": "d7ea8197",
    "execution_start": 1633081942821,
    "execution_millis": 572,
    "cell_id": "00012-a33895f6-27a3-4edd-8257-ac3655577ba4",
    "deepnote_cell_type": "code"
   },
   "source": "mean = df['loan_amnt'].mean()\ndf['loan_amnt'].hist(bins=100,grid = False,alpha= 0.7)\nplt.title(\"Histogram of Loans Amount\",size=15)\nplt.xlabel(\"Loans Amount\")\nplt.ylabel(\"Frequency\")\nplt.axvline(mean, color=\"red\")\nplt.text(mean, 60000, \"  Mean:{:10.2f} $\".format(mean), verticalalignment='center',size=13)\n\n",
   "execution_count": null,
   "outputs": [
    {
     "output_type": "execute_result",
     "execution_count": 58,
     "data": {
      "text/plain": "Text(14755.26460508982, 60000, '  Mean:  14755.26 $')"
     },
     "metadata": {}
    },
    {
     "data": {
      "text/plain": "<Figure size 432x288 with 1 Axes>",
      "image/png": "[encoded data removed]"
     },
     "metadata": {
      "needs_background": "light",
      "image/png": {
       "width": 402,
       "height": 280
      }
     },
     "output_type": "display_data"
    }
   ]
  },
  {
   "cell_type": "markdown",
   "source": "## Median",
   "metadata": {
    "tags": [],
    "is_collapsed": false,
    "cell_id": "00013-edfca632-b9a0-4948-96f1-ca9f3e0cc5ae",
    "deepnote_cell_type": "text-cell-h2"
   }
  },
  {
   "cell_type": "code",
   "metadata": {
    "tags": [],
    "cell_id": "00013-bcd4c657-2b95-48ed-8320-3895b28daeb7",
    "deepnote_to_be_reexecuted": false,
    "source_hash": "d517728c",
    "execution_start": 1633079465530,
    "execution_millis": 28,
    "deepnote_cell_type": "code"
   },
   "source": "df['loan_amnt'].median()",
   "execution_count": null,
   "outputs": [
    {
     "output_type": "execute_result",
     "execution_count": 15,
     "data": {
      "text/plain": "13000.0"
     },
     "metadata": {}
    }
   ]
  },
  {
   "cell_type": "code",
   "metadata": {
    "tags": [],
    "cell_id": "00015-dbaa36cd-d7bb-4822-996f-884fe762ec14",
    "deepnote_to_be_reexecuted": false,
    "source_hash": "94ad176b",
    "execution_start": 1633082163175,
    "execution_millis": 748,
    "deepnote_cell_type": "code"
   },
   "source": "median = df['loan_amnt'].median()\n\ndf['loan_amnt'].hist(bins=100,grid = False,alpha= 0.7)\nplt.title(\"Histogram of Loans Amount\",size=15)\nplt.xlabel(\"Loans Amount\")\nplt.ylabel(\"Frequency\")\nplt.axvline(median, color=\"green\")\nplt.text(median, 60000, \"  Mean:{} $\".format(median), verticalalignment='center',size=13)\n",
   "execution_count": null,
   "outputs": [
    {
     "output_type": "execute_result",
     "execution_count": 61,
     "data": {
      "text/plain": "Text(13000.0, 60000, '  Mean:13000.0 $')"
     },
     "metadata": {}
    },
    {
     "data": {
      "text/plain": "<Figure size 432x288 with 1 Axes>",
      "image/png": "[encoded data removed]"
     },
     "metadata": {
      "needs_background": "light",
      "image/png": {
       "width": 402,
       "height": 280
      }
     },
     "output_type": "display_data"
    }
   ]
  },
  {
   "cell_type": "markdown",
   "source": "## Modus",
   "metadata": {
    "tags": [],
    "is_collapsed": false,
    "cell_id": "00016-01ea0318-9118-45dd-a786-ce2d316b5fdc",
    "deepnote_cell_type": "text-cell-h2"
   }
  },
  {
   "cell_type": "code",
   "metadata": {
    "tags": [],
    "cell_id": "00017-b30e536d-00d4-436b-b9cd-bdbb9fe28778",
    "deepnote_to_be_reexecuted": false,
    "source_hash": "f672cbaf",
    "execution_start": 1633092332065,
    "execution_millis": 16,
    "deepnote_cell_type": "code"
   },
   "source": "df['title'].mode()[0]",
   "execution_count": null,
   "outputs": [
    {
     "output_type": "execute_result",
     "execution_count": 90,
     "data": {
      "text/plain": "'Debt consolidation'"
     },
     "metadata": {}
    }
   ]
  },
  {
   "cell_type": "code",
   "metadata": {
    "tags": [],
    "cell_id": "00017-9495a55f-a328-4b00-b422-73f15bdf2b2a",
    "deepnote_to_be_reexecuted": false,
    "source_hash": "95aefe3a",
    "execution_start": 1633094765478,
    "execution_millis": 525,
    "deepnote_cell_type": "code"
   },
   "source": "mode = df['title'].mode()[0]\ndf['title'].value_counts().head(10).plot(kind='bar')\nplt.title(\"Barplot of 10 most frequent 'Title'\",size=15)\nplt.xlabel(\"Title\")\nplt.ylabel(\"Frequency\")\n_ = plt.text(1,400000, \"  Mode is: {} $\".format(mode), verticalalignment='center',size=13)\n",
   "execution_count": null,
   "outputs": [
    {
     "data": {
      "text/plain": "<Figure size 432x288 with 1 Axes>",
      "image/png": "[encoded data removed]"
     },
     "metadata": {
      "needs_background": "light",
      "image/png": {
       "width": 407,
       "height": 385
      }
     },
     "output_type": "display_data"
    }
   ]
  },
  {
   "cell_type": "markdown",
   "source": "## Quartile",
   "metadata": {
    "tags": [],
    "is_collapsed": false,
    "cell_id": "00019-35b69ab0-2b73-4d3b-b740-661e47ef6b82",
    "deepnote_cell_type": "text-cell-h2"
   }
  },
  {
   "cell_type": "code",
   "metadata": {
    "tags": [],
    "cell_id": "00020-41ed373b-1b5e-425c-bc59-f53252e281be",
    "deepnote_to_be_reexecuted": false,
    "source_hash": "40408495",
    "execution_start": 1633097142564,
    "execution_millis": 1518,
    "deepnote_cell_type": "code"
   },
   "source": "#df['loan_amnt'].boxplot(grid = False)\ndf.boxplot(column=['loan_amnt'],grid = False)\nplt.xlabel('Loan amount')\nplt.ylabel(\"Frequency\")\n_ = plt.title(\"Boxplot of Loan Amount\")\n",
   "execution_count": null,
   "outputs": [
    {
     "data": {
      "text/plain": "<Figure size 432x288 with 1 Axes>",
      "image/png": "[encoded data removed]"
     },
     "metadata": {
      "needs_background": "light",
      "image/png": {
       "width": 387,
       "height": 265
      }
     },
     "output_type": "display_data"
    }
   ]
  },
  {
   "cell_type": "code",
   "metadata": {
    "tags": [],
    "cell_id": "00021-4d5b846b-6d5d-42ee-b78b-4e055abcf16a",
    "deepnote_to_be_reexecuted": false,
    "source_hash": "e7a984b2",
    "execution_start": 1633098321193,
    "execution_millis": 56,
    "deepnote_cell_type": "code"
   },
   "source": "q1 = df['loan_amnt'].quantile(0.25)\nq2 = df['loan_amnt'].quantile(0.5)\nq3 = df['loan_amnt'].quantile(0.75)\niqr = q3 - q1\nprint(\"1st Quartile:{} - 2nd  Quartile:{} - 3rd  Quartile:{} Interquartile Range:{}\".format(q1,q2,q3,iqr))",
   "execution_count": null,
   "outputs": [
    {
     "name": "stdout",
     "text": "1st Quartile:8000.0 - 2nd  Quartile:13000.0 - 3rd  Quartile:20000.0 Interquartile Range:12000.0\n",
     "output_type": "stream"
    }
   ]
  },
  {
   "cell_type": "code",
   "metadata": {
    "tags": [],
    "cell_id": "00016-295c6d23-272e-4148-ab51-7659e33e10e3",
    "deepnote_to_be_reexecuted": false,
    "source_hash": "1d204ff3",
    "execution_start": 1633089187306,
    "execution_millis": 607,
    "deepnote_cell_type": "code"
   },
   "source": "c='inq_last_12m'\nb = 50\nmedian = df[c].median()\nmean  = df[c].mean()\n\ndf[c].hist(bins=b,grid = False,alpha= 0.7)\nplt.title(\"Histogram of \"+c)\nplt.xlabel(c)\nplt.ylabel(\"Frequency\")\nplt.axvline(mean, color=\"red\", label = 'Median')\nplt.axvline(median+10, color=\"green\", label = 'Mean')\n\nplt.legend()\n#df[c].describe()",
   "execution_count": null,
   "outputs": [
    {
     "output_type": "execute_result",
     "execution_count": 78,
     "data": {
      "text/plain": "<matplotlib.legend.Legend at 0x7fe03e40a850>"
     },
     "metadata": {}
    },
    {
     "data": {
      "text/plain": "<Figure size 432x288 with 1 Axes>",
      "image/png": "[encoded data removed]"
     },
     "metadata": {
      "needs_background": "light",
      "image/png": {
       "width": 395,
       "height": 279
      }
     },
     "output_type": "display_data"
    }
   ]
  },
  {
   "cell_type": "markdown",
   "source": "# Streeungsmasse (Spread measures)",
   "metadata": {
    "tags": [],
    "is_collapsed": false,
    "cell_id": "00023-680937ef-de9b-428f-a79b-ecfd4d6cb290",
    "deepnote_cell_type": "text-cell-h1"
   }
  },
  {
   "cell_type": "markdown",
   "source": "## Varianz",
   "metadata": {
    "tags": [],
    "is_collapsed": false,
    "cell_id": "00024-59c06485-5e00-464d-b3bc-058649301f7d",
    "deepnote_cell_type": "text-cell-h2"
   }
  },
  {
   "cell_type": "code",
   "source": "df['loan_amnt'].var() # ... squared USD dollars",
   "metadata": {
    "tags": [],
    "cell_id": "00025-0a11e081-f76c-4620-9281-5983730bbfdc",
    "deepnote_to_be_reexecuted": false,
    "source_hash": "75504ac8",
    "execution_start": 1633358320310,
    "execution_millis": 12,
    "deepnote_cell_type": "code"
   },
   "outputs": [
    {
     "output_type": "execute_result",
     "execution_count": 5,
     "data": {
      "text/plain": "71156911.20113908"
     },
     "metadata": {}
    }
   ],
   "execution_count": 5
  },
  {
   "cell_type": "markdown",
   "source": "## Standard deviation",
   "metadata": {
    "tags": [],
    "is_collapsed": false,
    "cell_id": "00026-a284402e-3287-4c11-b68f-38fa103260eb",
    "deepnote_cell_type": "text-cell-h2"
   }
  },
  {
   "cell_type": "code",
   "source": "df['loan_amnt'].std() # USD dollars",
   "metadata": {
    "tags": [],
    "cell_id": "00027-9f8d830e-d1ae-40ad-ba84-f6c0f4543b67",
    "deepnote_to_be_reexecuted": false,
    "source_hash": "4760e816",
    "execution_start": 1633358323379,
    "execution_millis": 34,
    "deepnote_cell_type": "code"
   },
   "outputs": [
    {
     "output_type": "execute_result",
     "execution_count": 6,
     "data": {
      "text/plain": "8435.455601278396"
     },
     "metadata": {}
    }
   ],
   "execution_count": 6
  },
  {
   "cell_type": "code",
   "source": "df['loan_amnt'].describe()",
   "metadata": {
    "tags": [],
    "cell_id": "00024-dcccbc4b-087d-45e7-a3da-e6f9c9aff775",
    "deepnote_to_be_reexecuted": false,
    "source_hash": "80b7f608",
    "execution_start": 1633358128573,
    "execution_millis": 26,
    "deepnote_cell_type": "code"
   },
   "outputs": [
    {
     "output_type": "execute_result",
     "execution_count": 3,
     "data": {
      "text/plain": "count    887379.000000\nmean      14755.264605\nstd        8435.455601\nmin         500.000000\n25%        8000.000000\n50%       13000.000000\n75%       20000.000000\nmax       35000.000000\nName: loan_amnt, dtype: float64"
     },
     "metadata": {}
    }
   ],
   "execution_count": 3
  },
  {
   "cell_type": "markdown",
   "source": "<a style='text-decoration:none;line-height:16px;display:flex;color:#5B5B62;padding:10px;justify-content:end;' href='https://deepnote.com?utm_source=created-in-deepnote-cell&projectId=484ce270-3a41-4dd6-9050-10e2ff2d7d59' target=\"_blank\">\n<img alt='Created in deepnote.com' style='display:inline;max-height:16px;margin:0px;margin-right:7.5px;' src='data:image/svg+xml;base64,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' > </img>\nCreated in <span style='font-weight:600;margin-left:4px;'>Deepnote</span></a>",
   "metadata": {
    "tags": [],
    "created_in_deepnote_cell": true,
    "deepnote_cell_type": "markdown"
   }
  }
 ],
 "nbformat": 4,
 "nbformat_minor": 2,
 "metadata": {
  "orig_nbformat": 2,
  "deepnote": {
   "is_reactive": false
  },
  "deepnote_notebook_id": "f3d4d6e8-b370-4e42-b241-bd751ef32e86",
  "deepnote_execution_queue": []
 }
}