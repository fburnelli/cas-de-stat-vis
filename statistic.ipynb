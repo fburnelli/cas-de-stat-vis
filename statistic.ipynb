{
 "cells": [
  {
   "cell_type": "markdown",
   "source": "# Stats",
   "metadata": {
    "tags": [],
    "is_collapsed": false,
    "cell_id": "00000-39d27419-e779-48a6-b599-07f93f44c6a1",
    "deepnote_cell_type": "text-cell-h1"
   }
  },
  {
   "cell_type": "code",
   "metadata": {
    "tags": [],
    "cell_id": "00002-4ef2f075-b0ab-4e45-84cb-d74c890568ac",
    "deepnote_to_be_reexecuted": false,
    "source_hash": "818c5f8f",
    "execution_start": 1633011120543,
    "execution_millis": 1776,
    "deepnote_cell_type": "code"
   },
   "source": "import matplotlib.pyplot as plt\nimport numpy as np\nimport pandas as pd\n%matplotlib inline",
   "execution_count": 2,
   "outputs": []
  },
  {
   "cell_type": "code",
   "source": "df = pd.read_csv(\"lc_loan.csv\")",
   "metadata": {
    "tags": [],
    "cell_id": "00001-2df9f3d5-d405-48d3-beb2-8adb0480e573",
    "deepnote_to_be_reexecuted": false,
    "source_hash": "7496430d",
    "execution_start": 1633011126540,
    "execution_millis": 9788,
    "deepnote_cell_type": "code"
   },
   "outputs": [
    {
     "name": "stderr",
     "text": "/shared-libs/python3.7/py-core/lib/python3.7/site-packages/IPython/core/interactiveshell.py:3170: DtypeWarning: Columns (19,55) have mixed types.Specify dtype option on import or set low_memory=False.\n  interactivity=interactivity, compiler=compiler, result=result)\n",
     "output_type": "stream"
    }
   ],
   "execution_count": 3
  },
  {
   "cell_type": "markdown",
   "source": "## Distributions",
   "metadata": {
    "tags": [],
    "is_collapsed": false,
    "cell_id": "00001-244ec132-285f-4193-8479-291c633b4c05",
    "deepnote_cell_type": "text-cell-h2"
   }
  },
  {
   "cell_type": "code",
   "metadata": {
    "tags": [],
    "cell_id": "00001-139f6757-ce80-4eea-9b3d-cee86533e77e",
    "deepnote_to_be_reexecuted": false,
    "source_hash": "595049f3",
    "execution_start": 1632235705797,
    "execution_millis": 379,
    "deepnote_cell_type": "code"
   },
   "source": "# Exercise change observations\nplt.figure()\nobservations= 1000\nplt.hist(np.random.normal(loc=0.0, scale=1.0, size=observations),100)\nplt.title(f\"{observations} observations\")\nplt.show()\n",
   "execution_count": null,
   "outputs": [
    {
     "data": {
      "text/plain": "<Figure size 432x288 with 1 Axes>",
      "image/png": "[encoded data removed]"
     },
     "metadata": {
      "needs_background": "light",
      "image/png": {
       "width": 368,
       "height": 264
      }
     },
     "output_type": "display_data"
    }
   ]
  },
  {
   "cell_type": "markdown",
   "source": "",
   "metadata": {
    "tags": [],
    "cell_id": "00001-2bd6e811-af39-48ed-8c82-1e2f60198ccd",
    "deepnote_cell_type": "markdown"
   }
  },
  {
   "cell_type": "code",
   "metadata": {
    "tags": [],
    "cell_id": "00005-c0268360-13f2-4ae8-b2e9-71ffdeafeb7c",
    "deepnote_to_be_reexecuted": false,
    "source_hash": "ac573e93",
    "execution_start": 1632407279874,
    "execution_millis": 10,
    "deepnote_cell_type": "code"
   },
   "source": "\nimport matplotlib.pyplot as plt\nimport numpy as np\n​\n%matplotlib notebook\n​\n# generate 4 random variables from the random, gamma, exponential, and uniform distributions\nx1 = np.random.normal(-2.5, 1, 10000)\nx2 = np.random.gamma(2, 1.5, 10000)\nx3 = np.random.exponential(2, 10000)+7\nx4 = np.random.uniform(14,20, 10000)\n​\n# plot the histograms\nplt.figure(figsize=(9,3))\nplt.hist(x1, normed=True, bins=20, alpha=0.5)\nplt.hist(x2, normed=True, bins=20, alpha=0.5)\nplt.hist(x3, normed=True, bins=20, alpha=0.5)\nplt.hist(x4, normed=True, bins=20, alpha=0.5);\nplt.axis([-7,21,0,0.6])\n​\nplt.text(x1.mean()-1.5, 0.5, 'x1\\nNormal')\nplt.text(x2.mean()-1.5, 0.5, 'x2\\nGamma')\nplt.text(x3.mean()-1.5, 0.5, 'x3\\nExponential')\nplt.text(x4.mean()-1.5, 0.5, 'x4\\nUniform')\n​\n",
   "execution_count": null,
   "outputs": [
    {
     "output_type": "error",
     "ename": "SyntaxError",
     "evalue": "invalid character in identifier (2959463831.py, line 3)",
     "traceback": [
      "\u001b[0;36m  File \u001b[0;32m\"/tmp/ipykernel_73/2959463831.py\"\u001b[0;36m, line \u001b[0;32m3\u001b[0m\n\u001b[0;31m    ​\u001b[0m\n\u001b[0m    ^\u001b[0m\n\u001b[0;31mSyntaxError\u001b[0m\u001b[0;31m:\u001b[0m invalid character in identifier\n"
     ]
    }
   ]
  },
  {
   "cell_type": "code",
   "metadata": {
    "tags": [],
    "cell_id": "00006-d93d5059-d3dd-4f80-8a69-5745f45ce23f",
    "deepnote_to_be_reexecuted": false,
    "source_hash": "c4322d57",
    "execution_start": 1632493109784,
    "execution_millis": 8,
    "deepnote_cell_type": "code"
   },
   "source": "x = np.random.binomial(10,\n                       .5,\n                       1000\n                       )\n#_ = plt.plot(x)\nprint(x.mean())",
   "execution_count": null,
   "outputs": [
    {
     "name": "stdout",
     "text": "5.12\n",
     "output_type": "stream"
    }
   ]
  },
  {
   "cell_type": "code",
   "metadata": {
    "tags": [],
    "cell_id": "00007-f8a4ca26-250d-4cb5-908d-e91c8f6d8990",
    "deepnote_to_be_reexecuted": false,
    "source_hash": "4076a5f3",
    "execution_start": 1632494197127,
    "execution_millis": 914,
    "deepnote_cell_type": "code"
   },
   "source": "x = np.random.normal(0,\n                    1,\n                    10000\n                       )\n_ = plt.hist(x,bins=100)\n",
   "execution_count": null,
   "outputs": [
    {
     "data": {
      "text/plain": "<Figure size 432x288 with 1 Axes>",
      "image/png": "[encoded data removed]"
     },
     "metadata": {
      "needs_background": "light",
      "image/png": {
       "width": 375,
       "height": 248
      }
     },
     "output_type": "display_data"
    }
   ]
  },
  {
   "cell_type": "markdown",
   "source": "# Hauptwerte",
   "metadata": {
    "tags": [],
    "is_collapsed": false,
    "cell_id": "00008-ac3ca961-24b3-431b-82c0-97103f46e93f",
    "deepnote_cell_type": "text-cell-h1"
   }
  },
  {
   "cell_type": "markdown",
   "source": "## Mittelwert",
   "metadata": {
    "tags": [],
    "is_collapsed": false,
    "cell_id": "00009-cdc0f618-a63f-47a3-a29d-77acdf144da1",
    "deepnote_cell_type": "text-cell-h2"
   }
  },
  {
   "cell_type": "code",
   "source": "df['loan_amnt'].mean()",
   "metadata": {
    "tags": [],
    "cell_id": "00009-aedf61ef-b2c2-4d8a-917a-95dbe1ac3739",
    "deepnote_to_be_reexecuted": false,
    "source_hash": "a1251cf6",
    "execution_start": 1633011392635,
    "execution_millis": 4,
    "deepnote_cell_type": "code"
   },
   "outputs": [
    {
     "output_type": "execute_result",
     "execution_count": 6,
     "data": {
      "text/plain": "14755.26460508982"
     },
     "metadata": {}
    }
   ],
   "execution_count": 6
  },
  {
   "cell_type": "code",
   "source": "mean = df['loan_amnt'].mean()\ndf['loan_amnt'].hist(bins=100,grid = False,alpha= 0.7)\nplt.title(\"Histogram of Loan Amount\")\nplt.xlabel(\"Loan Amount\")\nplt.xlabel(\"Frequency\")\nplt.vlines(mean,0,65000,colors='red')\nput text mean",
   "metadata": {
    "tags": [],
    "cell_id": "00011-c5e6ea01-b8bc-43dd-bd9e-ae39a548c2e1",
    "deepnote_to_be_reexecuted": false,
    "source_hash": "5f3a4003",
    "execution_start": 1633014762527,
    "execution_millis": 478,
    "deepnote_cell_type": "code"
   },
   "outputs": [
    {
     "output_type": "execute_result",
     "execution_count": 41,
     "data": {
      "text/plain": "<matplotlib.collections.LineCollection at 0x7f5ccc72de90>"
     },
     "metadata": {}
    },
    {
     "data": {
      "text/plain": "<Figure size 432x288 with 1 Axes>",
      "image/png": "[encoded data removed]"
     },
     "metadata": {
      "needs_background": "light",
      "image/png": {
       "width": 388,
       "height": 278
      }
     },
     "output_type": "display_data"
    }
   ],
   "execution_count": 41
  },
  {
   "cell_type": "code",
   "source": "",
   "metadata": {
    "tags": [],
    "cell_id": "00013-61fc24d9-b754-4573-906d-48549f6549a4",
    "deepnote_cell_type": "code"
   },
   "outputs": [],
   "execution_count": null
  },
  {
   "cell_type": "markdown",
   "source": "<a style='text-decoration:none;line-height:16px;display:flex;color:#5B5B62;padding:10px;justify-content:end;' href='https://deepnote.com?utm_source=created-in-deepnote-cell&projectId=484ce270-3a41-4dd6-9050-10e2ff2d7d59' target=\"_blank\">\n<img alt='Created in deepnote.com' style='display:inline;max-height:16px;margin:0px;margin-right:7.5px;' src='data:image/svg+xml;base64,PD94bWwgdmVyc2lvbj0iMS4wIiBlbmNvZGluZz0iVVRGLTgiPz4KPHN2ZyB3aWR0aD0iODBweCIgaGVpZ2h0PSI4MHB4IiB2aWV3Qm94PSIwIDAgODAgODAiIHZlcnNpb249IjEuMSIgeG1sbnM9Imh0dHA6Ly93d3cudzMub3JnLzIwMDAvc3ZnIiB4bWxuczp4bGluaz0iaHR0cDovL3d3dy53My5vcmcvMTk5OS94bGluayI+CiAgICA8IS0tIEdlbmVyYXRvcjogU2tldGNoIDU0LjEgKDc2NDkwKSAtIGh0dHBzOi8vc2tldGNoYXBwLmNvbSAtLT4KICAgIDx0aXRsZT5Hcm91cCAzPC90aXRsZT4KICAgIDxkZXNjPkNyZWF0ZWQgd2l0aCBTa2V0Y2guPC9kZXNjPgogICAgPGcgaWQ9IkxhbmRpbmciIHN0cm9rZT0ibm9uZSIgc3Ryb2tlLXdpZHRoPSIxIiBmaWxsPSJub25lIiBmaWxsLXJ1bGU9ImV2ZW5vZGQiPgogICAgICAgIDxnIGlkPSJBcnRib2FyZCIgdHJhbnNmb3JtPSJ0cmFuc2xhdGUoLTEyMzUuMDAwMDAwLCAtNzkuMDAwMDAwKSI+CiAgICAgICAgICAgIDxnIGlkPSJHcm91cC0zIiB0cmFuc2Zvcm09InRyYW5zbGF0ZSgxMjM1LjAwMDAwMCwgNzkuMDAwMDAwKSI+CiAgICAgICAgICAgICAgICA8cG9seWdvbiBpZD0iUGF0aC0yMCIgZmlsbD0iIzAyNjVCNCIgcG9pbnRzPSIyLjM3NjIzNzYyIDgwIDM4LjA0NzY2NjcgODAgNTcuODIxNzgyMiA3My44MDU3NTkyIDU3LjgyMTc4MjIgMzIuNzU5MjczOSAzOS4xNDAyMjc4IDMxLjY4MzE2ODMiPjwvcG9seWdvbj4KICAgICAgICAgICAgICAgIDxwYXRoIGQ9Ik0zNS4wMDc3MTgsODAgQzQyLjkwNjIwMDcsNzYuNDU0OTM1OCA0Ny41NjQ5MTY3LDcxLjU0MjI2NzEgNDguOTgzODY2LDY1LjI2MTk5MzkgQzUxLjExMjI4OTksNTUuODQxNTg0MiA0MS42NzcxNzk1LDQ5LjIxMjIyODQgMjUuNjIzOTg0Niw0OS4yMTIyMjg0IEMyNS40ODQ5Mjg5LDQ5LjEyNjg0NDggMjkuODI2MTI5Niw0My4yODM4MjQ4IDM4LjY0NzU4NjksMzEuNjgzMTY4MyBMNzIuODcxMjg3MSwzMi41NTQ0MjUgTDY1LjI4MDk3Myw2Ny42NzYzNDIxIEw1MS4xMTIyODk5LDc3LjM3NjE0NCBMMzUuMDA3NzE4LDgwIFoiIGlkPSJQYXRoLTIyIiBmaWxsPSIjMDAyODY4Ij48L3BhdGg+CiAgICAgICAgICAgICAgICA8cGF0aCBkPSJNMCwzNy43MzA0NDA1IEwyNy4xMTQ1MzcsMC4yNTcxMTE0MzYgQzYyLjM3MTUxMjMsLTEuOTkwNzE3MDEgODAsMTAuNTAwMzkyNyA4MCwzNy43MzA0NDA1IEM4MCw2NC45NjA0ODgyIDY0Ljc3NjUwMzgsNzkuMDUwMzQxNCAzNC4zMjk1MTEzLDgwIEM0Ny4wNTUzNDg5LDc3LjU2NzA4MDggNTMuNDE4MjY3Nyw3MC4zMTM2MTAzIDUzLjQxODI2NzcsNTguMjM5NTg4NSBDNTMuNDE4MjY3Nyw0MC4xMjg1NTU3IDM2LjMwMzk1NDQsMzcuNzMwNDQwNSAyNS4yMjc0MTcsMzcuNzMwNDQwNSBDMTcuODQzMDU4NiwzNy43MzA0NDA1IDkuNDMzOTE5NjYsMzcuNzMwNDQwNSAwLDM3LjczMDQ0MDUgWiIgaWQ9IlBhdGgtMTkiIGZpbGw9IiMzNzkzRUYiPjwvcGF0aD4KICAgICAgICAgICAgPC9nPgogICAgICAgIDwvZz4KICAgIDwvZz4KPC9zdmc+' > </img>\nCreated in <span style='font-weight:600;margin-left:4px;'>Deepnote</span></a>",
   "metadata": {
    "tags": [],
    "created_in_deepnote_cell": true,
    "deepnote_cell_type": "markdown"
   }
  }
 ],
 "nbformat": 4,
 "nbformat_minor": 2,
 "metadata": {
  "orig_nbformat": 2,
  "deepnote": {
   "is_reactive": false
  },
  "deepnote_notebook_id": "9a2059d8-61f7-49e6-9d9c-195d9c5056fd",
  "deepnote_execution_queue": []
 }
}